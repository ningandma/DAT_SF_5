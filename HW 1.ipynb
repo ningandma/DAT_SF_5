{
 "metadata": {
  "name": "HW 1"
 },
 "nbformat": 3,
 "nbformat_minor": 0,
 "worksheets": [
  {
   "cells": [
    {
     "cell_type": "raw",
     "metadata": {},
     "source": "HW 1"
    },
    {
     "cell_type": "code",
     "collapsed": false,
     "input": "import csv\nimport numpy as np\nimport pandas as pd\nimport matplotlib as plot\n\npd.set_option('display.max_columns', 15)\npd.set_option('display.line_width', 400)\npd.set_option('display.mpl_style', 'default')\n\nimport matplotlib\nfont = {'family' : 'normal',\n        'weight' : 'bold',\n        'size'   : 22}\n\nmatplotlib.rc('font', **font)",
     "language": "python",
     "metadata": {},
     "outputs": [],
     "prompt_number": 1
    },
    {
     "cell_type": "code",
     "collapsed": false,
     "input": "data = pd.read_csv(\"/Users/ningma/Desktop/titanic-train.csv\")\ndata.head()",
     "language": "python",
     "metadata": {},
     "outputs": [
      {
       "html": "<div style=\"max-height:1000px;max-width:1500px;overflow:auto;\">\n<table border=\"1\" class=\"dataframe\">\n  <thead>\n    <tr style=\"text-align: right;\">\n      <th></th>\n      <th>PassengerId</th>\n      <th>Survived</th>\n      <th>Pclass</th>\n      <th>Name</th>\n      <th>Sex</th>\n      <th>Age</th>\n      <th>SibSp</th>\n      <th>Parch</th>\n      <th>Ticket</th>\n      <th>Fare</th>\n      <th>Cabin</th>\n      <th>Embarked</th>\n    </tr>\n  </thead>\n  <tbody>\n    <tr>\n      <th>0</th>\n      <td> 1</td>\n      <td> 0</td>\n      <td> 3</td>\n      <td>                           Braund, Mr. Owen Harris</td>\n      <td>   male</td>\n      <td> 22</td>\n      <td> 1</td>\n      <td> 0</td>\n      <td>        A/5 21171</td>\n      <td>  7.2500</td>\n      <td>  NaN</td>\n      <td> S</td>\n    </tr>\n    <tr>\n      <th>1</th>\n      <td> 2</td>\n      <td> 1</td>\n      <td> 1</td>\n      <td> Cumings, Mrs. John Bradley (Florence Briggs Th...</td>\n      <td> female</td>\n      <td> 38</td>\n      <td> 1</td>\n      <td> 0</td>\n      <td>         PC 17599</td>\n      <td> 71.2833</td>\n      <td>  C85</td>\n      <td> C</td>\n    </tr>\n    <tr>\n      <th>2</th>\n      <td> 3</td>\n      <td> 1</td>\n      <td> 3</td>\n      <td>                            Heikkinen, Miss. Laina</td>\n      <td> female</td>\n      <td> 26</td>\n      <td> 0</td>\n      <td> 0</td>\n      <td> STON/O2. 3101282</td>\n      <td>  7.9250</td>\n      <td>  NaN</td>\n      <td> S</td>\n    </tr>\n    <tr>\n      <th>3</th>\n      <td> 4</td>\n      <td> 1</td>\n      <td> 1</td>\n      <td>      Futrelle, Mrs. Jacques Heath (Lily May Peel)</td>\n      <td> female</td>\n      <td> 35</td>\n      <td> 1</td>\n      <td> 0</td>\n      <td>           113803</td>\n      <td> 53.1000</td>\n      <td> C123</td>\n      <td> S</td>\n    </tr>\n    <tr>\n      <th>4</th>\n      <td> 5</td>\n      <td> 0</td>\n      <td> 3</td>\n      <td>                          Allen, Mr. William Henry</td>\n      <td>   male</td>\n      <td> 35</td>\n      <td> 0</td>\n      <td> 0</td>\n      <td>           373450</td>\n      <td>  8.0500</td>\n      <td>  NaN</td>\n      <td> S</td>\n    </tr>\n  </tbody>\n</table>\n<p>5 rows \u00d7 12 columns</p>\n</div>",
       "metadata": {},
       "output_type": "pyout",
       "prompt_number": 2,
       "text": "   PassengerId  Survived  Pclass                                               Name     Sex  Age  SibSp  Parch            Ticket     Fare Cabin Embarked\n0            1         0       3                            Braund, Mr. Owen Harris    male   22      1      0         A/5 21171   7.2500   NaN        S\n1            2         1       1  Cumings, Mrs. John Bradley (Florence Briggs Th...  female   38      1      0          PC 17599  71.2833   C85        C\n2            3         1       3                             Heikkinen, Miss. Laina  female   26      0      0  STON/O2. 3101282   7.9250   NaN        S\n3            4         1       1       Futrelle, Mrs. Jacques Heath (Lily May Peel)  female   35      1      0            113803  53.1000  C123        S\n4            5         0       3                           Allen, Mr. William Henry    male   35      0      0            373450   8.0500   NaN        S\n\n[5 rows x 12 columns]"
      }
     ],
     "prompt_number": 2
    },
    {
     "cell_type": "code",
     "collapsed": false,
     "input": "data.median()",
     "language": "python",
     "metadata": {},
     "outputs": [
      {
       "metadata": {},
       "output_type": "pyout",
       "prompt_number": 3,
       "text": "PassengerId    446.0000\nSurvived         0.0000\nPclass           3.0000\nAge             28.0000\nSibSp            0.0000\nParch            0.0000\nFare            14.4542\ndtype: float64"
      }
     ],
     "prompt_number": 3
    },
    {
     "cell_type": "code",
     "collapsed": false,
     "input": "data.mean()",
     "language": "python",
     "metadata": {},
     "outputs": [
      {
       "metadata": {},
       "output_type": "pyout",
       "prompt_number": 4,
       "text": "PassengerId    446.000000\nSurvived         0.383838\nPclass           2.308642\nAge             29.699118\nSibSp            0.523008\nParch            0.381594\nFare            32.204208\ndtype: float64"
      }
     ],
     "prompt_number": 4
    },
    {
     "cell_type": "code",
     "collapsed": false,
     "input": "data.count()",
     "language": "python",
     "metadata": {},
     "outputs": [
      {
       "metadata": {},
       "output_type": "pyout",
       "prompt_number": 5,
       "text": "PassengerId    891\nSurvived       891\nPclass         891\nName           891\nSex            891\nAge            714\nSibSp          891\nParch          891\nTicket         891\nFare           891\nCabin          204\nEmbarked       889\ndtype: int64"
      }
     ],
     "prompt_number": 5
    },
    {
     "cell_type": "raw",
     "metadata": {},
     "source": "891 passengers"
    },
    {
     "cell_type": "code",
     "collapsed": false,
     "input": "print data ['Survived']",
     "language": "python",
     "metadata": {},
     "outputs": [
      {
       "output_type": "stream",
       "stream": "stdout",
       "text": "0     0\n1     1\n2     1\n3     1\n4     0\n5     0\n6     0\n7     0\n8     1\n9     1\n10    1\n11    1\n12    0\n13    0\n14    0\n...\n876    0\n877    0\n878    0\n879    1\n880    1\n881    0\n882    0\n883    0\n884    0\n885    0\n886    0\n887    1\n888    0\n889    1\n890    0\nName: Survived, Length: 891, dtype: int64\n"
      }
     ],
     "prompt_number": 6
    },
    {
     "cell_type": "code",
     "collapsed": false,
     "input": "survived = data ['Survived']",
     "language": "python",
     "metadata": {},
     "outputs": [],
     "prompt_number": 7
    },
    {
     "cell_type": "code",
     "collapsed": false,
     "input": "survival_summary = data.groupby(['Pclass', 'Sex']).aggregate(np.sum)\nsurvival_summary",
     "language": "python",
     "metadata": {},
     "outputs": [
      {
       "html": "<div style=\"max-height:1000px;max-width:1500px;overflow:auto;\">\n<table border=\"1\" class=\"dataframe\">\n  <thead>\n    <tr style=\"text-align: right;\">\n      <th></th>\n      <th></th>\n      <th>PassengerId</th>\n      <th>Survived</th>\n      <th>Age</th>\n      <th>SibSp</th>\n      <th>Parch</th>\n      <th>Fare</th>\n    </tr>\n    <tr>\n      <th>Pclass</th>\n      <th>Sex</th>\n      <th></th>\n      <th></th>\n      <th></th>\n      <th></th>\n      <th></th>\n      <th></th>\n    </tr>\n  </thead>\n  <tbody>\n    <tr>\n      <th rowspan=\"2\" valign=\"top\">1</th>\n      <th>female</th>\n      <td>  44106</td>\n      <td> 91</td>\n      <td> 2942.00</td>\n      <td>  52</td>\n      <td>  43</td>\n      <td> 9975.8250</td>\n    </tr>\n    <tr>\n      <th>male</th>\n      <td>  55599</td>\n      <td> 45</td>\n      <td> 4169.42</td>\n      <td>  38</td>\n      <td>  34</td>\n      <td> 8201.5875</td>\n    </tr>\n    <tr>\n      <th rowspan=\"2\" valign=\"top\">2</th>\n      <th>female</th>\n      <td>  33676</td>\n      <td> 70</td>\n      <td> 2125.50</td>\n      <td>  37</td>\n      <td>  46</td>\n      <td> 1669.7292</td>\n    </tr>\n    <tr>\n      <th>male</th>\n      <td>  48380</td>\n      <td> 17</td>\n      <td> 3043.33</td>\n      <td>  37</td>\n      <td>  24</td>\n      <td> 2132.1125</td>\n    </tr>\n    <tr>\n      <th rowspan=\"2\" valign=\"top\">3</th>\n      <th>female</th>\n      <td>  57561</td>\n      <td> 72</td>\n      <td> 2218.50</td>\n      <td> 129</td>\n      <td> 115</td>\n      <td> 2321.1086</td>\n    </tr>\n    <tr>\n      <th>male</th>\n      <td> 158064</td>\n      <td> 47</td>\n      <td> 6706.42</td>\n      <td> 173</td>\n      <td>  78</td>\n      <td> 4393.5865</td>\n    </tr>\n  </tbody>\n</table>\n<p>6 rows \u00d7 6 columns</p>\n</div>",
       "metadata": {},
       "output_type": "pyout",
       "prompt_number": 8,
       "text": "               PassengerId  Survived      Age  SibSp  Parch       Fare\nPclass Sex                                                            \n1      female        44106        91  2942.00     52     43  9975.8250\n       male          55599        45  4169.42     38     34  8201.5875\n2      female        33676        70  2125.50     37     46  1669.7292\n       male          48380        17  3043.33     37     24  2132.1125\n3      female        57561        72  2218.50    129    115  2321.1086\n       male         158064        47  6706.42    173     78  4393.5865\n\n[6 rows x 6 columns]"
      }
     ],
     "prompt_number": 8
    },
    {
     "cell_type": "code",
     "collapsed": false,
     "input": "survived.sum()",
     "language": "python",
     "metadata": {},
     "outputs": [
      {
       "metadata": {},
       "output_type": "pyout",
       "prompt_number": 9,
       "text": "342"
      }
     ],
     "prompt_number": 9
    },
    {
     "cell_type": "code",
     "collapsed": false,
     "input": "data.Survived.value_counts(1)",
     "language": "python",
     "metadata": {},
     "outputs": [
      {
       "metadata": {},
       "output_type": "pyout",
       "prompt_number": 10,
       "text": "0    0.616162\n1    0.383838\ndtype: float64"
      }
     ],
     "prompt_number": 10
    },
    {
     "cell_type": "raw",
     "metadata": {},
     "source": "342 people survived our of 891, which is 38.3%"
    },
    {
     "cell_type": "code",
     "collapsed": false,
     "input": "data.Sex.value_counts('male')",
     "language": "python",
     "metadata": {},
     "outputs": [
      {
       "metadata": {},
       "output_type": "pyout",
       "prompt_number": 11,
       "text": "male      0.647587\nfemale    0.352413\ndtype: float64"
      }
     ],
     "prompt_number": 11
    },
    {
     "cell_type": "raw",
     "metadata": {},
     "source": "577 males, which is 64.8%\n314 females, which is 35.2%"
    },
    {
     "cell_type": "code",
     "collapsed": false,
     "input": "data.Survived[data.Sex == 'male'].value_counts('male')",
     "language": "python",
     "metadata": {},
     "outputs": [
      {
       "metadata": {},
       "output_type": "pyout",
       "prompt_number": 12,
       "text": "0    0.811092\n1    0.188908\ndtype: float64"
      }
     ],
     "prompt_number": 12
    },
    {
     "cell_type": "code",
     "collapsed": false,
     "input": "data.Survived[data.Sex == 'female'].value_counts('female')",
     "language": "python",
     "metadata": {},
     "outputs": [
      {
       "metadata": {},
       "output_type": "pyout",
       "prompt_number": 13,
       "text": "1    0.742038\n0    0.257962\ndtype: float64"
      }
     ],
     "prompt_number": 13
    },
    {
     "cell_type": "raw",
     "metadata": {},
     "source": "18.9% survival rate for male\n25.7% survival rate for female"
    },
    {
     "cell_type": "code",
     "collapsed": false,
     "input": "data.Age.mean()",
     "language": "python",
     "metadata": {},
     "outputs": [
      {
       "metadata": {},
       "output_type": "pyout",
       "prompt_number": 14,
       "text": "29.69911764705882"
      }
     ],
     "prompt_number": 14
    },
    {
     "cell_type": "raw",
     "metadata": {},
     "source": "average age was 29.7 years old "
    },
    {
     "cell_type": "code",
     "collapsed": false,
     "input": "data.Age[data.Sex == 'female'].mean('female')",
     "language": "python",
     "metadata": {},
     "outputs": [
      {
       "metadata": {},
       "output_type": "pyout",
       "prompt_number": 15,
       "text": "27.915708812260537"
      }
     ],
     "prompt_number": 15
    },
    {
     "cell_type": "code",
     "collapsed": false,
     "input": "data.Age[data.Survived == 1].mean()",
     "language": "python",
     "metadata": {},
     "outputs": [
      {
       "metadata": {},
       "output_type": "pyout",
       "prompt_number": 16,
       "text": "28.343689655172415"
      }
     ],
     "prompt_number": 16
    },
    {
     "cell_type": "code",
     "collapsed": false,
     "input": "data.Age[data.Survived == 0].mean()",
     "language": "python",
     "metadata": {},
     "outputs": [
      {
       "metadata": {},
       "output_type": "pyout",
       "prompt_number": 17,
       "text": "30.626179245283019"
      }
     ],
     "prompt_number": 17
    },
    {
     "cell_type": "raw",
     "metadata": {},
     "source": "averge age of survived = 28.3\naverage of not survived = 30.6\n\nclearly, gender is a good predictor but age is not that predictive of who survived"
    },
    {
     "cell_type": "code",
     "collapsed": false,
     "input": "c = data.Pclass.value_counts()",
     "language": "python",
     "metadata": {},
     "outputs": [],
     "prompt_number": 18
    },
    {
     "cell_type": "code",
     "collapsed": false,
     "input": "data.Pclass[data.Survived == 0].mean()",
     "language": "python",
     "metadata": {},
     "outputs": [
      {
       "metadata": {},
       "output_type": "pyout",
       "prompt_number": 19,
       "text": "2.5318761384335153"
      }
     ],
     "prompt_number": 19
    },
    {
     "cell_type": "markdown",
     "metadata": {},
     "source": "13. class could be a good predictor of who survived?\n\n14. \ninclude: gender, class, fare\ndon't include: age"
    },
    {
     "cell_type": "code",
     "collapsed": false,
     "input": "data.Fare[data.Survived == 1].mean()",
     "language": "python",
     "metadata": {},
     "outputs": [
      {
       "metadata": {},
       "output_type": "pyout",
       "prompt_number": 20,
       "text": "48.395407602339169"
      }
     ],
     "prompt_number": 20
    },
    {
     "cell_type": "code",
     "collapsed": false,
     "input": "data.Fare[data.Survived == 0].mean()",
     "language": "python",
     "metadata": {},
     "outputs": [
      {
       "metadata": {},
       "output_type": "pyout",
       "prompt_number": 21,
       "text": "22.117886885245877"
      }
     ],
     "prompt_number": 21
    },
    {
     "cell_type": "code",
     "collapsed": false,
     "input": "data.Fare[data.Sex == 'female'].mean()",
     "language": "python",
     "metadata": {},
     "outputs": [
      {
       "metadata": {},
       "output_type": "pyout",
       "prompt_number": 22,
       "text": "44.479817834394872"
      }
     ],
     "prompt_number": 22
    },
    {
     "cell_type": "code",
     "collapsed": false,
     "input": "data.Fare[data.Sex == 'male'].mean()",
     "language": "python",
     "metadata": {},
     "outputs": [
      {
       "metadata": {},
       "output_type": "pyout",
       "prompt_number": 23,
       "text": "25.523893414211418"
      }
     ],
     "prompt_number": 23
    },
    {
     "cell_type": "code",
     "collapsed": false,
     "input": "data.Pclass[data.Sex == 'female'].count()",
     "language": "python",
     "metadata": {},
     "outputs": [
      {
       "metadata": {},
       "output_type": "pyout",
       "prompt_number": 24,
       "text": "314"
      }
     ],
     "prompt_number": 24
    },
    {
     "cell_type": "code",
     "collapsed": false,
     "input": "data.Pclass[data.Sex == 'female'].value_counts()",
     "language": "python",
     "metadata": {},
     "outputs": [
      {
       "metadata": {},
       "output_type": "pyout",
       "prompt_number": 25,
       "text": "3    144\n1     94\n2     76\ndtype: int64"
      }
     ],
     "prompt_number": 25
    },
    {
     "cell_type": "code",
     "collapsed": false,
     "input": "a = data.Pclass[data.Sex == 'male'].value_counts()",
     "language": "python",
     "metadata": {},
     "outputs": [],
     "prompt_number": 26
    },
    {
     "cell_type": "code",
     "collapsed": false,
     "input": "slice = data[['Survived', 'Pclass']].mean()\nslice",
     "language": "python",
     "metadata": {},
     "outputs": [
      {
       "metadata": {},
       "output_type": "pyout",
       "prompt_number": 27,
       "text": "Survived    0.383838\nPclass      2.308642\ndtype: float64"
      }
     ],
     "prompt_number": 27
    },
    {
     "cell_type": "code",
     "collapsed": false,
     "input": "",
     "language": "python",
     "metadata": {},
     "outputs": [],
     "prompt_number": 27
    }
   ],
   "metadata": {}
  }
 ]
}